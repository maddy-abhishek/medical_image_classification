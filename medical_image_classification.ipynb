{
 "cells": [
  {
   "cell_type": "code",
   "execution_count": null,
   "id": "687f8599",
   "metadata": {},
   "outputs": [],
   "source": [
    "!pip install -q transformers torchvision pdf2image PyMuPDF beautifulsoup4 requests"
   ]
  },
  {
   "cell_type": "code",
   "execution_count": null,
   "id": "a1f18712",
   "metadata": {},
   "outputs": [],
   "source": [
    "import torch\n",
    "from PIL import Image\n",
    "import requests\n",
    "from io import BytesIO\n",
    "from bs4 import BeautifulSoup\n",
    "from urllib.parse import urljoin\n",
    "from pdf2image import convert_from_path\n",
    "import fitz  # PyMuPDF\n",
    "import time\n",
    "from transformers import CLIPProcessor, CLIPModel\n",
    "from IPython.display import display"
   ]
  },
  {
   "cell_type": "code",
   "execution_count": null,
   "id": "1ef97363",
   "metadata": {},
   "outputs": [],
   "source": [
    "device = \"cuda\" if torch.cuda.is_available() else \"cpu\"\n",
    "model = CLIPModel.from_pretrained(\"openai/clip-vit-base-patch32\").to(device)\n",
    "processor = CLIPProcessor.from_pretrained(\"openai/clip-vit-base-patch32\")"
   ]
  },
  {
   "cell_type": "code",
   "execution_count": null,
   "id": "1a59a1ee",
   "metadata": {},
   "outputs": [],
   "source": [
    "def download_image(url):\n",
    "    try:\n",
    "        response = requests.get(url, timeout=15)\n",
    "        img = Image.open(BytesIO(response.content)).convert(\"RGB\")\n",
    "        return img\n",
    "    except:\n",
    "        return None\n",
    "\n",
    "def extract_images_from_url(web_url, max_images=20):\n",
    "    print(f\"🔗 Extracting images from: {web_url}\")\n",
    "    soup = BeautifulSoup(requests.get(web_url).text, 'html.parser')\n",
    "    images = []\n",
    "    for tag in soup.find_all(\"img\"):\n",
    "        src = tag.get(\"src\")\n",
    "        if src:\n",
    "            img_url = urljoin(web_url, src)\n",
    "            img = download_image(img_url)\n",
    "            if img:\n",
    "                images.append(img)\n",
    "    return images\n",
    "\n",
    "def extract_images_from_pdf(pdf_path):\n",
    "    print(f\"📄 Extracting images from PDF: {pdf_path}\")\n",
    "    return convert_from_path(pdf_path, dpi=200)"
   ]
  },
  {
   "cell_type": "code",
   "execution_count": null,
   "id": "9bf6147d",
   "metadata": {},
   "outputs": [],
   "source": [
    "def classify_images(images, batch_size=5):\n",
    "    results = []\n",
    "    start_time = time.time()\n",
    "    for i in range(0, len(images), batch_size):\n",
    "        batch = images[i:i+batch_size]\n",
    "        inputs = processor(text=[\"medical image\", \"non-medical image\"], images=batch, return_tensors=\"pt\", padding=True).to(device)\n",
    "        outputs = model(**inputs)\n",
    "        probs = outputs.logits_per_image.softmax(dim=1).tolist()\n",
    "        for p in probs:\n",
    "            label = \"medical\" if p[0] > p[1] else \"non-medical\"\n",
    "            results.append((label, p))\n",
    "    total_time = time.time() - start_time\n",
    "    return results, total_time"
   ]
  },
  {
   "cell_type": "code",
   "execution_count": null,
   "id": "cb8d8733",
   "metadata": {},
   "outputs": [],
   "source": [
    "def run_pipeline(input_path_or_url):\n",
    "    if input_path_or_url.endswith(\".pdf\"):\n",
    "        images = extract_images_from_pdf(input_path_or_url)\n",
    "    elif input_path_or_url.startswith(\"http\"):\n",
    "        images = extract_images_from_url(input_path_or_url)\n",
    "    else:\n",
    "        raise ValueError(\"Input must be a valid URL or a PDF file path.\")\n",
    "\n",
    "    print(f\"🖼️ Total images extracted: {len(images)}\")\n",
    "\n",
    "    results, inference_time = classify_images(images)\n",
    "\n",
    "    for idx, (label, probs) in enumerate(results):\n",
    "        print(f\"Image {idx+1}: {label.upper()} (Confidence: {probs})\")\n",
    "        display(images[idx])\n",
    "\n",
    "    print(f\"\\n⏱️ Total inference time: {inference_time:.2f} seconds\")"
   ]
  },
  {
   "cell_type": "code",
   "execution_count": null,
   "id": "368badb7",
   "metadata": {},
   "outputs": [],
   "source": [
    "##FOR WEBSITES\n",
    "run_pipeline(\"https://www.healthline.com/\")"
   ]
  },
  {
   "cell_type": "code",
   "execution_count": null,
   "id": "acecaf40",
   "metadata": {},
   "outputs": [],
   "source": [
    "##FOR PDF\n",
    "from google.colab import files\n",
    "uploaded = files.upload()\n",
    "pdf_path = list(uploaded.keys())[0]\n",
    "run_pipeline(pdf_path)"
   ]
  }
 ],
 "metadata": {
  "kernelspec": {
   "display_name": "Python 3",
   "language": "python",
   "name": "python3"
  },
  "language_info": {
   "name": "python",
   "version": "3.13.7"
  }
 },
 "nbformat": 4,
 "nbformat_minor": 5
}
